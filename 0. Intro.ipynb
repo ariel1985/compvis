{
 "cells": [
  {
   "cell_type": "markdown",
   "metadata": {},
   "source": [
    "# Intro\n",
    "\n",
    "## Tools:\n",
    " - Git\n",
    " - Colab\n",
    " - Jupyter Notebook\n",
    " - Web camera\n",
    "\n",
    "We're going to be collecting images using our webcam, but you could just as easily do this with you phone or pre process video\n",
    "\n",
    "we'll be using a github library called [labelimg](https://github.com/tzutalin/labelImg) to label our images\n",
    "\n",
    "## Best practices for labeling: \n",
    "1. Case sensitive - watch out! - log it in your readme\n",
    "2. include pictures of objects at different angles and under different light conditions\n",
    "3. start with 10-20 pictures in each class\n",
    "4. keep your labels as tight (minimum margins) as possible\n"
   ]
  },
  {
   "cell_type": "code",
   "execution_count": 1,
   "metadata": {},
   "outputs": [
    {
     "name": "stdout",
     "output_type": "stream",
     "text": [
      "Requirement already satisfied: opencv-python in c:\\users\\user\\pycharmprojects\\computer_vision2\\venv\\lib\\site-packages (4.5.3.56)\n",
      "Requirement already satisfied: numpy>=1.19.3 in c:\\users\\user\\pycharmprojects\\computer_vision2\\venv\\lib\\site-packages (from opencv-python) (1.21.1)\n"
     ]
    }
   ],
   "source": [
    "!pip install opencv-python"
   ]
  },
  {
   "cell_type": "markdown",
   "metadata": {},
   "source": [
    "## 1. Make sure your web camera is working"
   ]
  },
  {
   "cell_type": "code",
   "execution_count": 2,
   "metadata": {},
   "outputs": [],
   "source": [
    "# Import opencv\n",
    "import cv2 "
   ]
  },
  {
   "cell_type": "code",
   "execution_count": 3,
   "metadata": {},
   "outputs": [],
   "source": [
    "framewidth = 640\n",
    "frameheight = 480\n",
    "\n",
    "# 0 - Laptop camera\n",
    "# 1 - WebCam\n",
    "cap = cv2.VideoCapture(1)  \n",
    "\n",
    "cap.set(3, framewidth)  # width\n",
    "cap.set(4, frameheight)  # height\n",
    "cap.set(10, 10)  # brightneess\n",
    "\n",
    "while True:\n",
    "  is_success, img = cap.read()\n",
    "#   print('is_success',is_success)\n",
    "  cv2.imshow('Video', img)\n",
    "  # Add a delay and keypress q to quit window\n",
    "  if cv2.waitKey(25) & 0xFF == ord('q'):\n",
    "    break"
   ]
  }
 ],
 "metadata": {
  "kernelspec": {
   "display_name": "Python 3 (ipykernel)",
   "language": "python",
   "name": "python3"
  },
  "language_info": {
   "codemirror_mode": {
    "name": "ipython",
    "version": 3
   },
   "file_extension": ".py",
   "mimetype": "text/x-python",
   "name": "python",
   "nbconvert_exporter": "python",
   "pygments_lexer": "ipython3",
   "version": "3.9.2"
  }
 },
 "nbformat": 4,
 "nbformat_minor": 4
}
